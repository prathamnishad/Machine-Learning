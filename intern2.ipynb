{
  "nbformat": 4,
  "nbformat_minor": 0,
  "metadata": {
    "colab": {
      "name": "intern2.ipynb",
      "provenance": [],
      "collapsed_sections": [],
      "toc_visible": true,
      "machine_shape": "hm",
      "mount_file_id": "https://github.com/prathamnishad/experimental/blob/master/intern2.ipynb",
      "authorship_tag": "ABX9TyNHgJbA0kS2CrXhuVbalZCm",
      "include_colab_link": true
    },
    "kernelspec": {
      "name": "python3",
      "display_name": "Python 3"
    }
  },
  "cells": [
    {
      "cell_type": "markdown",
      "metadata": {
        "id": "view-in-github",
        "colab_type": "text"
      },
      "source": [
        "<a href=\"https://colab.research.google.com/github/prathamnishad/experimental/blob/master/intern2.ipynb\" target=\"_parent\"><img src=\"https://colab.research.google.com/assets/colab-badge.svg\" alt=\"Open In Colab\"/></a>"
      ]
    },
    {
      "cell_type": "code",
      "metadata": {
        "id": "7kYULq6gFvPx",
        "colab_type": "code",
        "outputId": "9ebe798a-45a7-4db2-c2dc-622903fa11e0",
        "colab": {
          "base_uri": "https://localhost:8080/",
          "height": 158
        }
      },
      "source": [
        "\n",
        "# AFTER SUMBISSION MODEL'S ACCURACY INCREASED SO I COMMITTED THE FILE ON GITHUB\n",
        "# AFTER SUMBISSION MODEL'S ACCURACY INCREASED SO I COMMITTED THE FILE ON GITHUB\n",
        "# AFTER SUMBISSION MODEL'S ACCURACY INCREASED SO I COMMITTED THE FILE ON GITHUB\n",
        "\n",
        "import os\n",
        "import zipfile\n",
        "import pandas as pd\n",
        "import numpy as np\n",
        "from datetime import datetime\n",
        "from sklearn.model_selection import train_test_split\n",
        "from sklearn.ensemble import RandomForestClassifier\n",
        "from sklearn import tree\n",
        "import time\n",
        "from sklearn.metrics import classification_report, accuracy_score\n",
        "from sklearn import preprocessing\n",
        "\n",
        "\n",
        "# file is in my google drive and accessing the zip file from mounted drive on my colab notebook\n",
        "local_zip = '/content/drive/My Drive/raw.zip'\n",
        "zip_ref = zipfile.ZipFile(local_zip, 'r')\n",
        "zip_ref.extractall('/tmp/data')\n",
        "raw=os.path.join(\"/tmp/data/raw\")\n",
        "train_gyro_phone=os.path.join(\"/tmp/data/raw/train/phone/gyro\")\n",
        "print('total train file:', len(os.listdir(train_gyro_phone)))\n",
        "train_accel_phone=os.path.join(\"/tmp/data/raw/train/phone/accel\")\n",
        "print('total train file:', len(os.listdir(train_accel_phone)))\n",
        "train_gyro_watch=os.path.join(\"/tmp/data/raw/train/watch/gyro\")\n",
        "print('total train file:', len(os.listdir(train_gyro_watch)))\n",
        "train_accel_watch=os.path.join(\"/tmp/data/raw/train/watch/accel\")\n",
        "print('total train file:', len(os.listdir(train_accel_watch)))\n",
        "\n",
        "test_gyro_phone=os.path.join(\"/tmp/data/raw/test/phone/gyro\")\n",
        "print('total test file:', len(os.listdir(test_gyro_phone)))\n",
        "test_accel_phone=os.path.join(\"/tmp/data/raw/test/phone/accel\")\n",
        "print('total test file:', len(os.listdir(test_accel_phone)))\n",
        "test_gyro_watch=os.path.join(\"/tmp/data/raw/test/watch/gyro\")\n",
        "print('total test file:', len(os.listdir(test_gyro_watch)))\n",
        "test_accel_watch=os.path.join(\"/tmp/data/raw/test/watch/accel\")\n",
        "print('total test file:', len(os.listdir(test_accel_watch)))\n"
      ],
      "execution_count": 1,
      "outputs": [
        {
          "output_type": "stream",
          "text": [
            "total train file: 20\n",
            "total train file: 20\n",
            "total train file: 20\n",
            "total train file: 20\n",
            "total test file: 14\n",
            "total test file: 14\n",
            "total test file: 14\n",
            "total test file: 14\n"
          ],
          "name": "stdout"
        }
      ]
    },
    {
      "cell_type": "code",
      "metadata": {
        "id": "3Z7M_10MGgB8",
        "colab_type": "code",
        "outputId": "03b08492-57c7-4b0a-822f-6e09b9f5cd52",
        "colab": {
          "base_uri": "https://localhost:8080/",
          "height": 197
        }
      },
      "source": [
        "#all the training data from 4 different folders\n",
        "df=pd.DataFrame()\n",
        "for n in os.listdir(train_gyro_phone):\n",
        "    a=pd.read_csv(os.path.join(train_gyro_phone,n),sep=\",\",header=None)\n",
        "    df=pd.concat([df,a])\n",
        "for n in os.listdir(train_accel_phone):\n",
        "    a=pd.read_csv(os.path.join(train_accel_phone,n),sep=\",\",header=None)\n",
        "    df=pd.concat([df,a])\n",
        "  \n",
        "for n in os.listdir(train_gyro_watch):\n",
        "    a=pd.read_csv(os.path.join(train_gyro_watch,n),sep=\",\",header=None)\n",
        "    df=pd.concat([df,a])\n",
        "\n",
        "for n in os.listdir(train_accel_watch):\n",
        "    a=pd.read_csv(os.path.join(train_accel_watch,n),sep=\",\",header=None)\n",
        "    df=pd.concat([df,a])\n",
        "d_train=df\n",
        "df.head()"
      ],
      "execution_count": 2,
      "outputs": [
        {
          "output_type": "execute_result",
          "data": {
            "text/html": [
              "<div>\n",
              "<style scoped>\n",
              "    .dataframe tbody tr th:only-of-type {\n",
              "        vertical-align: middle;\n",
              "    }\n",
              "\n",
              "    .dataframe tbody tr th {\n",
              "        vertical-align: top;\n",
              "    }\n",
              "\n",
              "    .dataframe thead th {\n",
              "        text-align: right;\n",
              "    }\n",
              "</style>\n",
              "<table border=\"1\" class=\"dataframe\">\n",
              "  <thead>\n",
              "    <tr style=\"text-align: right;\">\n",
              "      <th></th>\n",
              "      <th>0</th>\n",
              "      <th>1</th>\n",
              "      <th>2</th>\n",
              "      <th>3</th>\n",
              "      <th>4</th>\n",
              "      <th>5</th>\n",
              "    </tr>\n",
              "  </thead>\n",
              "  <tbody>\n",
              "    <tr>\n",
              "      <th>0</th>\n",
              "      <td>1617</td>\n",
              "      <td>A</td>\n",
              "      <td>268914308299448</td>\n",
              "      <td>0.794785</td>\n",
              "      <td>0.341476</td>\n",
              "      <td>0.2416687;</td>\n",
              "    </tr>\n",
              "    <tr>\n",
              "      <th>1</th>\n",
              "      <td>1617</td>\n",
              "      <td>A</td>\n",
              "      <td>268914358653452</td>\n",
              "      <td>-0.593460</td>\n",
              "      <td>0.439743</td>\n",
              "      <td>0.7967987;</td>\n",
              "    </tr>\n",
              "    <tr>\n",
              "      <th>2</th>\n",
              "      <td>1617</td>\n",
              "      <td>A</td>\n",
              "      <td>268914409007456</td>\n",
              "      <td>-0.590118</td>\n",
              "      <td>-0.879135</td>\n",
              "      <td>1.2294617;</td>\n",
              "    </tr>\n",
              "    <tr>\n",
              "      <th>3</th>\n",
              "      <td>1617</td>\n",
              "      <td>A</td>\n",
              "      <td>268914459361460</td>\n",
              "      <td>-0.821747</td>\n",
              "      <td>-1.319351</td>\n",
              "      <td>0.8325348;</td>\n",
              "    </tr>\n",
              "    <tr>\n",
              "      <th>4</th>\n",
              "      <td>1617</td>\n",
              "      <td>A</td>\n",
              "      <td>268914509715464</td>\n",
              "      <td>-1.026154</td>\n",
              "      <td>-0.588715</td>\n",
              "      <td>0.06594849;</td>\n",
              "    </tr>\n",
              "  </tbody>\n",
              "</table>\n",
              "</div>"
            ],
            "text/plain": [
              "      0  1                2         3         4            5\n",
              "0  1617  A  268914308299448  0.794785  0.341476   0.2416687;\n",
              "1  1617  A  268914358653452 -0.593460  0.439743   0.7967987;\n",
              "2  1617  A  268914409007456 -0.590118 -0.879135   1.2294617;\n",
              "3  1617  A  268914459361460 -0.821747 -1.319351   0.8325348;\n",
              "4  1617  A  268914509715464 -1.026154 -0.588715  0.06594849;"
            ]
          },
          "metadata": {
            "tags": []
          },
          "execution_count": 2
        }
      ]
    },
    {
      "cell_type": "code",
      "metadata": {
        "id": "BNO_aSFBGjBg",
        "colab_type": "code",
        "outputId": "b1be4b61-57d9-41fa-b07a-a619011840a3",
        "colab": {
          "base_uri": "https://localhost:8080/",
          "height": 197
        }
      },
      "source": [
        "#all the test data from 4 different folder\n",
        "df_test=pd.DataFrame()\n",
        "for n in os.listdir(test_gyro_phone):\n",
        "    a=pd.read_csv(os.path.join(test_gyro_phone,n),sep=\",\",header=None)\n",
        "    df_test=pd.concat([df_test,a])\n",
        "for n in os.listdir(test_accel_phone):\n",
        "    a=pd.read_csv(os.path.join(test_accel_phone,n),sep=\",\",header=None)\n",
        "    df_test=pd.concat([df_test,a])\n",
        "  \n",
        "for n in os.listdir(test_gyro_watch):\n",
        "    a=pd.read_csv(os.path.join(test_gyro_watch,n),sep=\",\",header=None)\n",
        "    df_test=pd.concat([df_test,a])\n",
        "\n",
        "for n in os.listdir(test_accel_watch):\n",
        "    a=pd.read_csv(os.path.join(test_accel_watch,n),sep=\",\",header=None)\n",
        "    df_test=pd.concat([df_test,a])\n",
        "d_test=df_test\n",
        "df_test.head()"
      ],
      "execution_count": 3,
      "outputs": [
        {
          "output_type": "execute_result",
          "data": {
            "text/html": [
              "<div>\n",
              "<style scoped>\n",
              "    .dataframe tbody tr th:only-of-type {\n",
              "        vertical-align: middle;\n",
              "    }\n",
              "\n",
              "    .dataframe tbody tr th {\n",
              "        vertical-align: top;\n",
              "    }\n",
              "\n",
              "    .dataframe thead th {\n",
              "        text-align: right;\n",
              "    }\n",
              "</style>\n",
              "<table border=\"1\" class=\"dataframe\">\n",
              "  <thead>\n",
              "    <tr style=\"text-align: right;\">\n",
              "      <th></th>\n",
              "      <th>0</th>\n",
              "      <th>1</th>\n",
              "      <th>2</th>\n",
              "      <th>3</th>\n",
              "      <th>4</th>\n",
              "      <th>5</th>\n",
              "    </tr>\n",
              "  </thead>\n",
              "  <tbody>\n",
              "    <tr>\n",
              "      <th>0</th>\n",
              "      <td>1622</td>\n",
              "      <td>A</td>\n",
              "      <td>1149668096722729</td>\n",
              "      <td>-0.239120</td>\n",
              "      <td>0.131454</td>\n",
              "      <td>-0.22280884;</td>\n",
              "    </tr>\n",
              "    <tr>\n",
              "      <th>1</th>\n",
              "      <td>1622</td>\n",
              "      <td>A</td>\n",
              "      <td>1149668147076733</td>\n",
              "      <td>-0.061310</td>\n",
              "      <td>0.098495</td>\n",
              "      <td>-0.05696106;</td>\n",
              "    </tr>\n",
              "    <tr>\n",
              "      <th>2</th>\n",
              "      <td>1622</td>\n",
              "      <td>A</td>\n",
              "      <td>1149668197430737</td>\n",
              "      <td>-0.036469</td>\n",
              "      <td>-0.424423</td>\n",
              "      <td>0.113845825;</td>\n",
              "    </tr>\n",
              "    <tr>\n",
              "      <th>3</th>\n",
              "      <td>1622</td>\n",
              "      <td>A</td>\n",
              "      <td>1149668247784741</td>\n",
              "      <td>0.471176</td>\n",
              "      <td>-0.633347</td>\n",
              "      <td>0.3421631;</td>\n",
              "    </tr>\n",
              "    <tr>\n",
              "      <th>4</th>\n",
              "      <td>1622</td>\n",
              "      <td>A</td>\n",
              "      <td>1149668298138745</td>\n",
              "      <td>1.204346</td>\n",
              "      <td>-0.074951</td>\n",
              "      <td>0.53718567;</td>\n",
              "    </tr>\n",
              "  </tbody>\n",
              "</table>\n",
              "</div>"
            ],
            "text/plain": [
              "      0  1                 2         3         4             5\n",
              "0  1622  A  1149668096722729 -0.239120  0.131454  -0.22280884;\n",
              "1  1622  A  1149668147076733 -0.061310  0.098495  -0.05696106;\n",
              "2  1622  A  1149668197430737 -0.036469 -0.424423  0.113845825;\n",
              "3  1622  A  1149668247784741  0.471176 -0.633347    0.3421631;\n",
              "4  1622  A  1149668298138745  1.204346 -0.074951   0.53718567;"
            ]
          },
          "metadata": {
            "tags": []
          },
          "execution_count": 3
        }
      ]
    },
    {
      "cell_type": "code",
      "metadata": {
        "id": "dkFiYcIWGlpc",
        "colab_type": "code",
        "colab": {}
      },
      "source": [
        "#function to preprocess data\n",
        "def make_df(df):\n",
        "  df.columns=[\"id\",\"activity\",\"time\",\"x\",\"y\",\"z\"]#column names\n",
        "  df['z'] = df['z'].apply(lambda x: float(x[:-1]))#converting the z value column to float\n",
        "  df['time'] = df['time'].apply(lambda x: x//1000000)#converting timestamp in micro seconds to datetime objects\n",
        "  df['time'] = df['time'].apply(lambda x: datetime.fromtimestamp(x))\n",
        "  for n in (\"year\",\"month\",\"week\",\"day\",\"dayofweek\",\"dayofyear\",\"is_month_end\",\"is_month_start\",\"is_quarter_end\",\"is_quarter_start\",\"is_year_end\",\"is_year_start\"):\n",
        "      df[n]=getattr(df.time.dt,n)# extracting extra data from time column\n",
        "  df.drop(columns=\"time\",inplace=True)\n",
        "\n",
        "  for n in [\"is_month_end\",\"is_month_start\",\"is_quarter_end\",\"is_quarter_start\",\"is_year_end\",\"is_year_start\"]:\n",
        "    df[n]=df[n].apply(lambda x:int(x))#converting to int from boolean i don't know why(o_o)\n",
        "\n",
        "  act=[\"A\",\"B\",\"C\",\"D\",\"E\",\"F\",\"G\",\"H\",\"I\",\"J\",\"K\",\"L\",\"M\",\"O\",\"P\",\"Q\",\"R\",\"S\"]#converting activity column from categorical data to numerical data\n",
        "  df[\"activity\"]=df[\"activity\"].apply(lambda a: act.index(a))\n",
        "  df = df.sample(frac=1).reset_index(drop=True)\n",
        "  df.drop(columns=\"id\",inplace=True)#dropping id column as it is of no use\n",
        "  return df\n",
        "  "
      ],
      "execution_count": 0,
      "outputs": []
    },
    {
      "cell_type": "code",
      "metadata": {
        "id": "tO1TxxumC5cf",
        "colab_type": "code",
        "colab": {}
      },
      "source": [
        "df_train=make_df(df)\n",
        "df_test=make_df(df_test)"
      ],
      "execution_count": 0,
      "outputs": []
    },
    {
      "cell_type": "code",
      "metadata": {
        "id": "QH3xWtvBGse9",
        "colab_type": "code",
        "colab": {
          "base_uri": "https://localhost:8080/",
          "height": 217
        },
        "outputId": "75482e8a-07f2-45f8-869d-3e63546b3ea6"
      },
      "source": [
        "dfa=pd.DataFrame()#single data frame for whole data train + test. Later divided into train and test set \n",
        "dfa=pd.concat([dfa,df_test])\n",
        "dfa=pd.concat([dfa,df_train])\n",
        "dfa.head()"
      ],
      "execution_count": 6,
      "outputs": [
        {
          "output_type": "execute_result",
          "data": {
            "text/html": [
              "<div>\n",
              "<style scoped>\n",
              "    .dataframe tbody tr th:only-of-type {\n",
              "        vertical-align: middle;\n",
              "    }\n",
              "\n",
              "    .dataframe tbody tr th {\n",
              "        vertical-align: top;\n",
              "    }\n",
              "\n",
              "    .dataframe thead th {\n",
              "        text-align: right;\n",
              "    }\n",
              "</style>\n",
              "<table border=\"1\" class=\"dataframe\">\n",
              "  <thead>\n",
              "    <tr style=\"text-align: right;\">\n",
              "      <th></th>\n",
              "      <th>activity</th>\n",
              "      <th>x</th>\n",
              "      <th>y</th>\n",
              "      <th>z</th>\n",
              "      <th>year</th>\n",
              "      <th>month</th>\n",
              "      <th>week</th>\n",
              "      <th>day</th>\n",
              "      <th>dayofweek</th>\n",
              "      <th>dayofyear</th>\n",
              "      <th>is_month_end</th>\n",
              "      <th>is_month_start</th>\n",
              "      <th>is_quarter_end</th>\n",
              "      <th>is_quarter_start</th>\n",
              "      <th>is_year_end</th>\n",
              "      <th>is_year_start</th>\n",
              "    </tr>\n",
              "  </thead>\n",
              "  <tbody>\n",
              "    <tr>\n",
              "      <th>0</th>\n",
              "      <td>5</td>\n",
              "      <td>-6.390488</td>\n",
              "      <td>-5.067032</td>\n",
              "      <td>5.068573</td>\n",
              "      <td>1992</td>\n",
              "      <td>5</td>\n",
              "      <td>20</td>\n",
              "      <td>12</td>\n",
              "      <td>1</td>\n",
              "      <td>133</td>\n",
              "      <td>0</td>\n",
              "      <td>0</td>\n",
              "      <td>0</td>\n",
              "      <td>0</td>\n",
              "      <td>0</td>\n",
              "      <td>0</td>\n",
              "    </tr>\n",
              "    <tr>\n",
              "      <th>1</th>\n",
              "      <td>16</td>\n",
              "      <td>-3.232467</td>\n",
              "      <td>0.632914</td>\n",
              "      <td>-0.710694</td>\n",
              "      <td>2012</td>\n",
              "      <td>3</td>\n",
              "      <td>11</td>\n",
              "      <td>18</td>\n",
              "      <td>6</td>\n",
              "      <td>78</td>\n",
              "      <td>0</td>\n",
              "      <td>0</td>\n",
              "      <td>0</td>\n",
              "      <td>0</td>\n",
              "      <td>0</td>\n",
              "      <td>0</td>\n",
              "    </tr>\n",
              "    <tr>\n",
              "      <th>2</th>\n",
              "      <td>8</td>\n",
              "      <td>0.276081</td>\n",
              "      <td>-5.887492</td>\n",
              "      <td>7.310844</td>\n",
              "      <td>2012</td>\n",
              "      <td>1</td>\n",
              "      <td>4</td>\n",
              "      <td>25</td>\n",
              "      <td>2</td>\n",
              "      <td>25</td>\n",
              "      <td>0</td>\n",
              "      <td>0</td>\n",
              "      <td>0</td>\n",
              "      <td>0</td>\n",
              "      <td>0</td>\n",
              "      <td>0</td>\n",
              "    </tr>\n",
              "    <tr>\n",
              "      <th>3</th>\n",
              "      <td>16</td>\n",
              "      <td>-0.868359</td>\n",
              "      <td>1.136856</td>\n",
              "      <td>-1.071694</td>\n",
              "      <td>1975</td>\n",
              "      <td>9</td>\n",
              "      <td>38</td>\n",
              "      <td>15</td>\n",
              "      <td>0</td>\n",
              "      <td>258</td>\n",
              "      <td>0</td>\n",
              "      <td>0</td>\n",
              "      <td>0</td>\n",
              "      <td>0</td>\n",
              "      <td>0</td>\n",
              "      <td>0</td>\n",
              "    </tr>\n",
              "    <tr>\n",
              "      <th>4</th>\n",
              "      <td>7</td>\n",
              "      <td>-5.719315</td>\n",
              "      <td>3.557754</td>\n",
              "      <td>-7.894241</td>\n",
              "      <td>1989</td>\n",
              "      <td>3</td>\n",
              "      <td>11</td>\n",
              "      <td>13</td>\n",
              "      <td>0</td>\n",
              "      <td>72</td>\n",
              "      <td>0</td>\n",
              "      <td>0</td>\n",
              "      <td>0</td>\n",
              "      <td>0</td>\n",
              "      <td>0</td>\n",
              "      <td>0</td>\n",
              "    </tr>\n",
              "  </tbody>\n",
              "</table>\n",
              "</div>"
            ],
            "text/plain": [
              "   activity         x         y  ...  is_quarter_start  is_year_end  is_year_start\n",
              "0         5 -6.390488 -5.067032  ...                 0            0              0\n",
              "1        16 -3.232467  0.632914  ...                 0            0              0\n",
              "2         8  0.276081 -5.887492  ...                 0            0              0\n",
              "3        16 -0.868359  1.136856  ...                 0            0              0\n",
              "4         7 -5.719315  3.557754  ...                 0            0              0\n",
              "\n",
              "[5 rows x 16 columns]"
            ]
          },
          "metadata": {
            "tags": []
          },
          "execution_count": 6
        }
      ]
    },
    {
      "cell_type": "code",
      "metadata": {
        "id": "Xl8lLL_ux0e7",
        "colab_type": "code",
        "colab": {}
      },
      "source": [
        "# train_y=dfa[\"activity\"]\n",
        "# train_x=dfa.drop(columns=\"activity\")\n",
        "# x_train, x_test, y_train, y_test = train_test_split(train_x,train_y , train_size = 0.7, random_state =  90)\n",
        "# train=len(x_train)\n",
        "# test=len(x_test)"
      ],
      "execution_count": 0,
      "outputs": []
    },
    {
      "cell_type": "code",
      "metadata": {
        "id": "07n9Ysa8KOZA",
        "colab_type": "code",
        "colab": {}
      },
      "source": [
        "# mm_scaler = preprocessing.Normalizer().fit(x_train)\n",
        "# x_train=mm_scaler.transform(x_train)\n",
        "# x_test=mm_scaler.transform(x_test)\n"
      ],
      "execution_count": 0,
      "outputs": []
    },
    {
      "cell_type": "code",
      "metadata": {
        "id": "mNtNP-ebGvCs",
        "colab_type": "code",
        "outputId": "d24a252a-ef79-41a6-940c-1aceed259b42",
        "colab": {
          "base_uri": "https://localhost:8080/",
          "height": 141
        }
      },
      "source": [
        "model_tree = tree.DecisionTreeClassifier()\n",
        "\n",
        "start = time.time()\n",
        "model_tree.fit(x_train, y_train)\n",
        "end = time.time()\n",
        "print(end - start)\n",
        "\n",
        "y_pred= model_tree.predict(x_test)\n",
        "acc = accuracy_score(y_test, y_pred)\n",
        "print(f\"Accuracy of {model_tree} is {acc}\")\n"
      ],
      "execution_count": 16,
      "outputs": [
        {
          "output_type": "stream",
          "text": [
            "134.9067153930664\n",
            "Accuracy of DecisionTreeClassifier(ccp_alpha=0.0, class_weight=None, criterion='gini',\n",
            "                       max_depth=None, max_features=None, max_leaf_nodes=None,\n",
            "                       min_impurity_decrease=0.0, min_impurity_split=None,\n",
            "                       min_samples_leaf=1, min_samples_split=2,\n",
            "                       min_weight_fraction_leaf=0.0, presort='deprecated',\n",
            "                       random_state=None, splitter='best') is 0.9428672169754603\n"
          ],
          "name": "stdout"
        }
      ]
    },
    {
      "cell_type": "code",
      "metadata": {
        "id": "37YxV1pvWuE9",
        "colab_type": "code",
        "colab": {
          "base_uri": "https://localhost:8080/",
          "height": 34
        },
        "outputId": "d138f61b-86c5-4508-834a-800a27d68c41"
      },
      "source": [
        "from sklearn.externals import joblib \n",
        "  \n",
        "# Save the model as a pickle in a file \n",
        "joblib.dump(model_tree, '/content/drive/My Drive/Decision_tree_classifier.pkl') "
      ],
      "execution_count": 10,
      "outputs": [
        {
          "output_type": "execute_result",
          "data": {
            "text/plain": [
              "['/content/drive/My Drive/Decision_tree_classifier.pkl']"
            ]
          },
          "metadata": {
            "tags": []
          },
          "execution_count": 10
        }
      ]
    },
    {
      "cell_type": "code",
      "metadata": {
        "id": "KLcwH9yHP_-u",
        "colab_type": "code",
        "outputId": "a57292cf-befe-4eda-af19-f74cc157f1fa",
        "colab": {
          "base_uri": "https://localhost:8080/",
          "height": 176
        }
      },
      "source": [
        "Random_classifier = RandomForestClassifier(n_estimators = 50)\n",
        "start = time.time()\n",
        "Random_classifier.fit(x_train, y_train)\n",
        "end = time.time()\n",
        "print(end - start)\n",
        "y_pred = Random_classifier.predict(x_test)\n",
        "acc = accuracy_score(y_test,y_pred)\n",
        "print(f\"Accuracy of {Random_classifier} is {acc}\")"
      ],
      "execution_count": 17,
      "outputs": [
        {
          "output_type": "stream",
          "text": [
            "1159.6711559295654\n",
            "Accuracy of RandomForestClassifier(bootstrap=True, ccp_alpha=0.0, class_weight=None,\n",
            "                       criterion='gini', max_depth=None, max_features='auto',\n",
            "                       max_leaf_nodes=None, max_samples=None,\n",
            "                       min_impurity_decrease=0.0, min_impurity_split=None,\n",
            "                       min_samples_leaf=1, min_samples_split=2,\n",
            "                       min_weight_fraction_leaf=0.0, n_estimators=50,\n",
            "                       n_jobs=None, oob_score=False, random_state=None,\n",
            "                       verbose=0, warm_start=False) is 0.962563715048386\n"
          ],
          "name": "stdout"
        }
      ]
    },
    {
      "cell_type": "code",
      "metadata": {
        "id": "F0T05EJjZc-z",
        "colab_type": "code",
        "colab": {}
      },
      "source": [
        "#Decision tree takes much less time to train in ralation to Random Forest.\n",
        "#Accuracy of Random Forest is always more than that of Decision Tree "
      ],
      "execution_count": 0,
      "outputs": []
    },
    {
      "cell_type": "code",
      "metadata": {
        "id": "lcgfRebKTXIK",
        "colab_type": "code",
        "colab": {}
      },
      "source": [
        "activity_encoder=[\"A\",\"B\",\"C\",\"D\",\"E\",\"F\",\"G\",\"H\",\"I\",\"J\",\"K\",\"L\",\"M\",\"O\",\"P\",\"Q\",\"R\",\"S\"]"
      ],
      "execution_count": 0,
      "outputs": []
    },
    {
      "cell_type": "code",
      "metadata": {
        "id": "m5WHl9XZcwMO",
        "colab_type": "code",
        "colab": {}
      },
      "source": [
        "#Decision Tree evaluation\n",
        "eval_data=make_df(eval_data)#eval_data is the evaluation dataframe\n",
        "eval_data=mm.scaler.transform(eval_data)#provided by you\n",
        "y_pred= model_tree.predict(eval_data)\n",
        "actual_pred=[]\n",
        "for n in y_pred:\n",
        "  actual_pred.append(activity_encoder[n])"
      ],
      "execution_count": 0,
      "outputs": []
    },
    {
      "cell_type": "code",
      "metadata": {
        "id": "4AW5I2tqRKCs",
        "colab_type": "code",
        "colab": {}
      },
      "source": [
        "#Random Forest evaluation\n",
        "eval_data=make_df(eval_data)#eval_data is the evaluation dataframe\n",
        "eval_data=mm.scaler.transform(eval_data)#provided by you\n",
        "y_pred= Random_classifier.predict(eval_data)\n",
        "actual_pred=[]\n",
        "for n in y_pred:\n",
        "  actual_pred.append(activity_encoder[n])"
      ],
      "execution_count": 0,
      "outputs": []
    },
    {
      "cell_type": "code",
      "metadata": {
        "id": "XTOM-vcHThBk",
        "colab_type": "code",
        "colab": {}
      },
      "source": [
        ""
      ],
      "execution_count": 0,
      "outputs": []
    }
  ]
}