{
  "nbformat": 4,
  "nbformat_minor": 0,
  "metadata": {
    "colab": {
      "name": "intern2.ipynb",
      "provenance": [],
      "collapsed_sections": [],
      "machine_shape": "hm",
      "mount_file_id": "1hsNCbwCRZ4ZAXQiCRISrJF3l3bC9Y_93",
      "authorship_tag": "ABX9TyN8Fwj9SAIayAaESKsjwhbr",
      "include_colab_link": true
    },
    "kernelspec": {
      "name": "python3",
      "display_name": "Python 3"
    }
  },
  "cells": [
    {
      "cell_type": "markdown",
      "metadata": {
        "id": "view-in-github",
        "colab_type": "text"
      },
      "source": [
        "<a href=\"https://colab.research.google.com/github/prathamnishad/experimental/blob/master/intern2.ipynb\" target=\"_parent\"><img src=\"https://colab.research.google.com/assets/colab-badge.svg\" alt=\"Open In Colab\"/></a>"
      ]
    },
    {
      "cell_type": "code",
      "metadata": {
        "id": "7kYULq6gFvPx",
        "colab_type": "code",
        "colab": {
          "base_uri": "https://localhost:8080/",
          "height": 158
        },
        "outputId": "60a4b73e-c036-4847-98b9-129fdbc9a23c"
      },
      "source": [
        "import os\n",
        "import zipfile\n",
        "%matplotlib inline\n",
        "import pandas as pd\n",
        "from matplotlib import pyplot as plt\n",
        "import numpy as np\n",
        "import os\n",
        "from datetime import datetime\n",
        "from sklearn.model_selection import train_test_split\n",
        "from sklearn.ensemble import RandomForestClassifier\n",
        "from sklearn import tree\n",
        "import time\n",
        "from sklearn.metrics import classification_report, accuracy_score\n",
        "from sklearn import preprocessing\n",
        "\n",
        "\n",
        "\n",
        "local_zip = '/content/drive/My Drive/raw.zip'\n",
        "zip_ref = zipfile.ZipFile(local_zip, 'r')\n",
        "zip_ref.extractall('/tmp/data')\n",
        "raw=os.path.join(\"/tmp/data/raw\")\n",
        "train_gyro_phone=os.path.join(\"/tmp/data/raw/train/phone/gyro\")\n",
        "print('total train file:', len(os.listdir(train_gyro_phone)))\n",
        "train_accel_phone=os.path.join(\"/tmp/data/raw/train/phone/accel\")\n",
        "print('total train file:', len(os.listdir(train_accel_phone)))\n",
        "train_gyro_watch=os.path.join(\"/tmp/data/raw/train/watch/gyro\")\n",
        "print('total train file:', len(os.listdir(train_gyro_watch)))\n",
        "train_accel_watch=os.path.join(\"/tmp/data/raw/train/watch/accel\")\n",
        "print('total train file:', len(os.listdir(train_accel_watch)))\n",
        "\n",
        "test_gyro_phone=os.path.join(\"/tmp/data/raw/test/phone/gyro\")\n",
        "print('total test file:', len(os.listdir(test_gyro_phone)))\n",
        "test_accel_phone=os.path.join(\"/tmp/data/raw/test/phone/accel\")\n",
        "print('total test file:', len(os.listdir(test_accel_phone)))\n",
        "test_gyro_watch=os.path.join(\"/tmp/data/raw/test/watch/gyro\")\n",
        "print('total test file:', len(os.listdir(test_gyro_watch)))\n",
        "test_accel_watch=os.path.join(\"/tmp/data/raw/test/watch/accel\")\n",
        "print('total test file:', len(os.listdir(test_accel_watch)))\n"
      ],
      "execution_count": 1,
      "outputs": [
        {
          "output_type": "stream",
          "text": [
            "total train file: 20\n",
            "total train file: 20\n",
            "total train file: 20\n",
            "total train file: 20\n",
            "total test file: 14\n",
            "total test file: 14\n",
            "total test file: 14\n",
            "total test file: 14\n"
          ],
          "name": "stdout"
        }
      ]
    },
    {
      "cell_type": "code",
      "metadata": {
        "id": "3Z7M_10MGgB8",
        "colab_type": "code",
        "colab": {
          "base_uri": "https://localhost:8080/",
          "height": 197
        },
        "outputId": "d6bed35e-3cfe-478a-fd43-0780911de7a2"
      },
      "source": [
        "#for train\n",
        "df=pd.DataFrame()\n",
        "for n in os.listdir(train_gyro_phone):\n",
        "    a=pd.read_csv(os.path.join(train_gyro_phone,n),sep=\",\",header=None)\n",
        "    df=pd.concat([df,a])\n",
        "for n in os.listdir(train_accel_phone):\n",
        "    a=pd.read_csv(os.path.join(train_accel_phone,n),sep=\",\",header=None)\n",
        "    df=pd.concat([df,a])\n",
        "  \n",
        "for n in os.listdir(train_gyro_watch):\n",
        "    a=pd.read_csv(os.path.join(train_gyro_watch,n),sep=\",\",header=None)\n",
        "    df=pd.concat([df,a])\n",
        "\n",
        "for n in os.listdir(train_accel_watch):\n",
        "    a=pd.read_csv(os.path.join(train_accel_watch,n),sep=\",\",header=None)\n",
        "    df=pd.concat([df,a])\n",
        "d_train=df\n",
        "df.head()"
      ],
      "execution_count": 2,
      "outputs": [
        {
          "output_type": "execute_result",
          "data": {
            "text/html": [
              "<div>\n",
              "<style scoped>\n",
              "    .dataframe tbody tr th:only-of-type {\n",
              "        vertical-align: middle;\n",
              "    }\n",
              "\n",
              "    .dataframe tbody tr th {\n",
              "        vertical-align: top;\n",
              "    }\n",
              "\n",
              "    .dataframe thead th {\n",
              "        text-align: right;\n",
              "    }\n",
              "</style>\n",
              "<table border=\"1\" class=\"dataframe\">\n",
              "  <thead>\n",
              "    <tr style=\"text-align: right;\">\n",
              "      <th></th>\n",
              "      <th>0</th>\n",
              "      <th>1</th>\n",
              "      <th>2</th>\n",
              "      <th>3</th>\n",
              "      <th>4</th>\n",
              "      <th>5</th>\n",
              "    </tr>\n",
              "  </thead>\n",
              "  <tbody>\n",
              "    <tr>\n",
              "      <th>0</th>\n",
              "      <td>1612</td>\n",
              "      <td>A</td>\n",
              "      <td>3952189047449</td>\n",
              "      <td>0.817322</td>\n",
              "      <td>-5.137268</td>\n",
              "      <td>-0.20063782;</td>\n",
              "    </tr>\n",
              "    <tr>\n",
              "      <th>1</th>\n",
              "      <td>1612</td>\n",
              "      <td>A</td>\n",
              "      <td>3952239401453</td>\n",
              "      <td>-1.029923</td>\n",
              "      <td>-3.979431</td>\n",
              "      <td>-1.3396301;</td>\n",
              "    </tr>\n",
              "    <tr>\n",
              "      <th>2</th>\n",
              "      <td>1612</td>\n",
              "      <td>A</td>\n",
              "      <td>3952289755457</td>\n",
              "      <td>0.493454</td>\n",
              "      <td>-1.189850</td>\n",
              "      <td>-2.666687;</td>\n",
              "    </tr>\n",
              "    <tr>\n",
              "      <th>3</th>\n",
              "      <td>1612</td>\n",
              "      <td>A</td>\n",
              "      <td>3952340109460</td>\n",
              "      <td>2.300003</td>\n",
              "      <td>-2.157044</td>\n",
              "      <td>-1.5438995;</td>\n",
              "    </tr>\n",
              "    <tr>\n",
              "      <th>4</th>\n",
              "      <td>1612</td>\n",
              "      <td>A</td>\n",
              "      <td>3952390463464</td>\n",
              "      <td>1.797806</td>\n",
              "      <td>-2.138672</td>\n",
              "      <td>1.0609283;</td>\n",
              "    </tr>\n",
              "  </tbody>\n",
              "</table>\n",
              "</div>"
            ],
            "text/plain": [
              "      0  1              2         3         4             5\n",
              "0  1612  A  3952189047449  0.817322 -5.137268  -0.20063782;\n",
              "1  1612  A  3952239401453 -1.029923 -3.979431   -1.3396301;\n",
              "2  1612  A  3952289755457  0.493454 -1.189850    -2.666687;\n",
              "3  1612  A  3952340109460  2.300003 -2.157044   -1.5438995;\n",
              "4  1612  A  3952390463464  1.797806 -2.138672    1.0609283;"
            ]
          },
          "metadata": {
            "tags": []
          },
          "execution_count": 2
        }
      ]
    },
    {
      "cell_type": "code",
      "metadata": {
        "id": "BNO_aSFBGjBg",
        "colab_type": "code",
        "colab": {
          "base_uri": "https://localhost:8080/",
          "height": 197
        },
        "outputId": "7e0b304b-1523-4743-812c-44ee74f1ad6c"
      },
      "source": [
        "#for test\n",
        "df_test=pd.DataFrame()\n",
        "for n in os.listdir(test_gyro_phone):\n",
        "    a=pd.read_csv(os.path.join(test_gyro_phone,n),sep=\",\",header=None)\n",
        "    df_test=pd.concat([df_test,a])\n",
        "for n in os.listdir(test_accel_phone):\n",
        "    a=pd.read_csv(os.path.join(test_accel_phone,n),sep=\",\",header=None)\n",
        "    df_test=pd.concat([df_test,a])\n",
        "  \n",
        "for n in os.listdir(test_gyro_watch):\n",
        "    a=pd.read_csv(os.path.join(test_gyro_watch,n),sep=\",\",header=None)\n",
        "    df_test=pd.concat([df_test,a])\n",
        "\n",
        "for n in os.listdir(test_accel_watch):\n",
        "    a=pd.read_csv(os.path.join(test_accel_watch,n),sep=\",\",header=None)\n",
        "    df_test=pd.concat([df_test,a])\n",
        "d_test=df_test\n",
        "df_test.head()"
      ],
      "execution_count": 3,
      "outputs": [
        {
          "output_type": "execute_result",
          "data": {
            "text/html": [
              "<div>\n",
              "<style scoped>\n",
              "    .dataframe tbody tr th:only-of-type {\n",
              "        vertical-align: middle;\n",
              "    }\n",
              "\n",
              "    .dataframe tbody tr th {\n",
              "        vertical-align: top;\n",
              "    }\n",
              "\n",
              "    .dataframe thead th {\n",
              "        text-align: right;\n",
              "    }\n",
              "</style>\n",
              "<table border=\"1\" class=\"dataframe\">\n",
              "  <thead>\n",
              "    <tr style=\"text-align: right;\">\n",
              "      <th></th>\n",
              "      <th>0</th>\n",
              "      <th>1</th>\n",
              "      <th>2</th>\n",
              "      <th>3</th>\n",
              "      <th>4</th>\n",
              "      <th>5</th>\n",
              "    </tr>\n",
              "  </thead>\n",
              "  <tbody>\n",
              "    <tr>\n",
              "      <th>0</th>\n",
              "      <td>1629</td>\n",
              "      <td>A</td>\n",
              "      <td>1127073874136682</td>\n",
              "      <td>-0.664368</td>\n",
              "      <td>-0.642181</td>\n",
              "      <td>-0.3517151;</td>\n",
              "    </tr>\n",
              "    <tr>\n",
              "      <th>1</th>\n",
              "      <td>1629</td>\n",
              "      <td>A</td>\n",
              "      <td>1127073924490686</td>\n",
              "      <td>-0.154068</td>\n",
              "      <td>-0.731796</td>\n",
              "      <td>-0.33454895;</td>\n",
              "    </tr>\n",
              "    <tr>\n",
              "      <th>2</th>\n",
              "      <td>1629</td>\n",
              "      <td>A</td>\n",
              "      <td>1127073974844690</td>\n",
              "      <td>0.290558</td>\n",
              "      <td>-0.411285</td>\n",
              "      <td>-0.12980652;</td>\n",
              "    </tr>\n",
              "    <tr>\n",
              "      <th>3</th>\n",
              "      <td>1629</td>\n",
              "      <td>A</td>\n",
              "      <td>1127074025198693</td>\n",
              "      <td>0.679916</td>\n",
              "      <td>-0.354401</td>\n",
              "      <td>-0.27474976;</td>\n",
              "    </tr>\n",
              "    <tr>\n",
              "      <th>4</th>\n",
              "      <td>1629</td>\n",
              "      <td>A</td>\n",
              "      <td>1127074075552697</td>\n",
              "      <td>0.757401</td>\n",
              "      <td>-0.079544</td>\n",
              "      <td>-0.45448303;</td>\n",
              "    </tr>\n",
              "  </tbody>\n",
              "</table>\n",
              "</div>"
            ],
            "text/plain": [
              "      0  1                 2         3         4             5\n",
              "0  1629  A  1127073874136682 -0.664368 -0.642181   -0.3517151;\n",
              "1  1629  A  1127073924490686 -0.154068 -0.731796  -0.33454895;\n",
              "2  1629  A  1127073974844690  0.290558 -0.411285  -0.12980652;\n",
              "3  1629  A  1127074025198693  0.679916 -0.354401  -0.27474976;\n",
              "4  1629  A  1127074075552697  0.757401 -0.079544  -0.45448303;"
            ]
          },
          "metadata": {
            "tags": []
          },
          "execution_count": 3
        }
      ]
    },
    {
      "cell_type": "code",
      "metadata": {
        "id": "dkFiYcIWGlpc",
        "colab_type": "code",
        "colab": {}
      },
      "source": [
        "#function to preprocess data\n",
        "def make_df(df):\n",
        "  df.columns=[\"id\",\"activity\",\"time\",\"x\",\"y\",\"z\"]#column names\n",
        "  df['z'] = df['z'].apply(lambda x: float(x[:-1]))#converting the z value column to float\n",
        "  df['time'] = df['time'].apply(lambda x: x//1000000)#converting timestamp in micro seconds to datetime objects\n",
        "  df['time'] = df['time'].apply(lambda x: datetime.fromtimestamp(x))\n",
        "  for n in (\"month\",\"week\",\"day\",\"dayofweek\",\"dayofyear\",\"is_month_end\",\"is_month_start\",\"is_quarter_end\",\"is_quarter_start\",\"is_year_end\",\"is_year_start\"):\n",
        "      df[n]=getattr(df.time.dt,n)# extracting extra data from time column\n",
        "  df.drop(columns=\"time\",inplace=True)\n",
        "\n",
        "  for n in [\"is_month_end\",\"is_month_start\",\"is_quarter_end\",\"is_quarter_start\",\"is_year_end\",\"is_year_start\"]:\n",
        "    df[n]=df[n].apply(lambda x:int(x))#converting to int from boolean i don't know why(o_o)\n",
        "\n",
        "  act=[\"A\",\"B\",\"C\",\"D\",\"E\",\"F\",\"G\",\"H\",\"I\",\"J\",\"K\",\"L\",\"M\",\"O\",\"P\",\"Q\",\"R\",\"S\"]#converting activity column from categorical data to numerical data\n",
        "  df[\"activity\"]=df[\"activity\"].apply(lambda a: act.index(a))\n",
        "  df = df.sample(frac=1).reset_index(drop=True)\n",
        "  df.drop(columns=\"id\",inplace=True)#dropping id column as it is of no use\n",
        "  return df\n",
        "  "
      ],
      "execution_count": 0,
      "outputs": []
    },
    {
      "cell_type": "code",
      "metadata": {
        "id": "T9uHZKj-GoBQ",
        "colab_type": "code",
        "colab": {}
      },
      "source": [
        "#for train\n",
        "df_train=make_df(df)\n",
        "#for test\n",
        "df_test=make_df(df_test)"
      ],
      "execution_count": 0,
      "outputs": []
    },
    {
      "cell_type": "code",
      "metadata": {
        "id": "QH3xWtvBGse9",
        "colab_type": "code",
        "colab": {}
      },
      "source": [
        "dfa=pd.DataFrame()#single data frame for whole data train + test. Later divided into train and test set \n",
        "dfa=pd.concat([dfa,df_test])\n",
        "dfa=pd.concat([dfa,df_train])"
      ],
      "execution_count": 0,
      "outputs": []
    },
    {
      "cell_type": "code",
      "metadata": {
        "id": "Xl8lLL_ux0e7",
        "colab_type": "code",
        "colab": {}
      },
      "source": [
        "train_y=dfa[\"activity\"]\n",
        "train_x=dfa.drop(columns=\"activity\")\n",
        "x_train, x_test, y_train, y_test = train_test_split(train_x,train_y , train_size = 0.9, random_state =  90)\n",
        "train=len(x_train)\n",
        "test=len(x_test)\n",
        "mm_scaler = preprocessing.Normalizer().fit(x_train)"
      ],
      "execution_count": 0,
      "outputs": []
    },
    {
      "cell_type": "code",
      "metadata": {
        "id": "07n9Ysa8KOZA",
        "colab_type": "code",
        "colab": {}
      },
      "source": [
        "x_train=mm_scaler.transform(x_train)\n",
        "x_test=mm_scaler.transform(x_test)\n"
      ],
      "execution_count": 0,
      "outputs": []
    },
    {
      "cell_type": "code",
      "metadata": {
        "id": "mNtNP-ebGvCs",
        "colab_type": "code",
        "colab": {
          "base_uri": "https://localhost:8080/",
          "height": 141
        },
        "outputId": "e853f176-6d69-4c40-cb41-b3b550e5d86d"
      },
      "source": [
        "model_tree = tree.DecisionTreeClassifier()\n",
        "\n",
        "start = time.time()\n",
        "model_tree.fit(x_train, y_train)\n",
        "end = time.time()\n",
        "print(end - start)\n",
        "\n",
        "y_pred= model_tree.predict(x_test)\n",
        "acc = accuracy_score(y_test, y_pred)\n",
        "print(f\"Accuracy of {model_tree} is {acc}\")\n"
      ],
      "execution_count": 9,
      "outputs": [
        {
          "output_type": "stream",
          "text": [
            "263.41410994529724\n",
            "Accuracy of DecisionTreeClassifier(ccp_alpha=0.0, class_weight=None, criterion='gini',\n",
            "                       max_depth=None, max_features=None, max_leaf_nodes=None,\n",
            "                       min_impurity_decrease=0.0, min_impurity_split=None,\n",
            "                       min_samples_leaf=1, min_samples_split=2,\n",
            "                       min_weight_fraction_leaf=0.0, presort='deprecated',\n",
            "                       random_state=None, splitter='best') is 0.9116025748499952\n"
          ],
          "name": "stdout"
        }
      ]
    },
    {
      "cell_type": "code",
      "metadata": {
        "id": "KLcwH9yHP_-u",
        "colab_type": "code",
        "colab": {
          "base_uri": "https://localhost:8080/",
          "height": 52
        },
        "outputId": "2b02c05a-c5a5-484a-f29c-75343916a591"
      },
      "source": [
        "Random_classifier = RandomForestClassifier(n_estimators = 50)\n",
        "start = time.time()\n",
        "Random_classifier.fit(x_train, y_train)\n",
        "end = time.time()\n",
        "print(end - start)\n",
        "y_pred = Random_classifier.predict(x_test)\n",
        "result = accuracy_score(y_test,y_pred)\n",
        "print(\"Accuracy:\",result)"
      ],
      "execution_count": 11,
      "outputs": [
        {
          "output_type": "stream",
          "text": [
            "1692.355530500412\n",
            "Accuracy: 0.9357933290622369\n"
          ],
          "name": "stdout"
        }
      ]
    },
    {
      "cell_type": "code",
      "metadata": {
        "id": "F0T05EJjZc-z",
        "colab_type": "code",
        "colab": {}
      },
      "source": [
        "#Decision tree takes much less time to train in ralation to Random Forest.\n",
        "#Accuracy of Random Forest is asways more than that of Decision Tree "
      ],
      "execution_count": 0,
      "outputs": []
    },
    {
      "cell_type": "code",
      "metadata": {
        "id": "lcgfRebKTXIK",
        "colab_type": "code",
        "colab": {}
      },
      "source": [
        "activity_encoder=[\"A\",\"B\",\"C\",\"D\",\"E\",\"F\",\"G\",\"H\",\"I\",\"J\",\"K\",\"L\",\"M\",\"O\",\"P\",\"Q\",\"R\",\"S\"]"
      ],
      "execution_count": 0,
      "outputs": []
    },
    {
      "cell_type": "code",
      "metadata": {
        "id": "m5WHl9XZcwMO",
        "colab_type": "code",
        "colab": {}
      },
      "source": [
        "#Decision Tree evaluation\n",
        "eval_data=make_df(eval_data)#eval_data is the evaluation dataframe\n",
        "eval_data=mm.scaler.transform(eval_data)#provided by you\n",
        "y_pred= model_tree.predict(eval_data)\n",
        "actual_pred=[]\n",
        "for n in y_pred:\n",
        "  actual_pred.append(activity_encoder[n])"
      ],
      "execution_count": 0,
      "outputs": []
    },
    {
      "cell_type": "code",
      "metadata": {
        "id": "4AW5I2tqRKCs",
        "colab_type": "code",
        "colab": {}
      },
      "source": [
        "#Random Forest evaluation\n",
        "eval_data=make_df(eval_data)#eval_data is the evaluation dataframe\n",
        "eval_data=mm.scaler.transform(eval_data)#provided by you\n",
        "y_pred= Random_classifier.predict(eval_data)\n",
        "actual_pred=[]\n",
        "for n in y_pred:\n",
        "  actual_pred.append(activity_encoder[n])"
      ],
      "execution_count": 0,
      "outputs": []
    },
    {
      "cell_type": "code",
      "metadata": {
        "id": "XTOM-vcHThBk",
        "colab_type": "code",
        "colab": {}
      },
      "source": [
        ""
      ],
      "execution_count": 0,
      "outputs": []
    }
  ]
}