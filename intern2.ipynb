{
  "nbformat": 4,
  "nbformat_minor": 0,
  "metadata": {
    "colab": {
      "name": "intern2.ipynb",
      "provenance": [],
      "collapsed_sections": [],
      "machine_shape": "hm",
      "mount_file_id": "https://github.com/prathamnishad/experimental/blob/master/intern2.ipynb",
      "authorship_tag": "ABX9TyNI42LjWh3XOa3Y2sKReo4L",
      "include_colab_link": true
    },
    "kernelspec": {
      "name": "python3",
      "display_name": "Python 3"
    }
  },
  "cells": [
    {
      "cell_type": "markdown",
      "metadata": {
        "id": "view-in-github",
        "colab_type": "text"
      },
      "source": [
        "<a href=\"https://colab.research.google.com/github/prathamnishad/experimental/blob/master/intern2.ipynb\" target=\"_parent\"><img src=\"https://colab.research.google.com/assets/colab-badge.svg\" alt=\"Open In Colab\"/></a>"
      ]
    },
    {
      "cell_type": "code",
      "metadata": {
        "id": "7kYULq6gFvPx",
        "colab_type": "code",
        "outputId": "b25a3a17-fbe9-45b0-9c3e-562dedc5420f",
        "colab": {
          "base_uri": "https://localhost:8080/",
          "height": 158
        }
      },
      "source": [
        "import os\n",
        "import zipfile\n",
        "import pandas as pd\n",
        "import numpy as np\n",
        "from datetime import datetime\n",
        "from sklearn.model_selection import train_test_split\n",
        "from sklearn.ensemble import RandomForestClassifier\n",
        "from sklearn import tree\n",
        "import time\n",
        "from sklearn.metrics import classification_report, accuracy_score\n",
        "from sklearn import preprocessing\n",
        "\n",
        "\n",
        "# file is in my google drive and accessing the zip file from mounted drive on my colab notebook\n",
        "local_zip = '/content/drive/My Drive/raw.zip'\n",
        "zip_ref = zipfile.ZipFile(local_zip, 'r')\n",
        "zip_ref.extractall('/tmp/data')\n",
        "raw=os.path.join(\"/tmp/data/raw\")\n",
        "train_gyro_phone=os.path.join(\"/tmp/data/raw/train/phone/gyro\")\n",
        "print('total train file:', len(os.listdir(train_gyro_phone)))\n",
        "train_accel_phone=os.path.join(\"/tmp/data/raw/train/phone/accel\")\n",
        "print('total train file:', len(os.listdir(train_accel_phone)))\n",
        "train_gyro_watch=os.path.join(\"/tmp/data/raw/train/watch/gyro\")\n",
        "print('total train file:', len(os.listdir(train_gyro_watch)))\n",
        "train_accel_watch=os.path.join(\"/tmp/data/raw/train/watch/accel\")\n",
        "print('total train file:', len(os.listdir(train_accel_watch)))\n",
        "\n",
        "test_gyro_phone=os.path.join(\"/tmp/data/raw/test/phone/gyro\")\n",
        "print('total test file:', len(os.listdir(test_gyro_phone)))\n",
        "test_accel_phone=os.path.join(\"/tmp/data/raw/test/phone/accel\")\n",
        "print('total test file:', len(os.listdir(test_accel_phone)))\n",
        "test_gyro_watch=os.path.join(\"/tmp/data/raw/test/watch/gyro\")\n",
        "print('total test file:', len(os.listdir(test_gyro_watch)))\n",
        "test_accel_watch=os.path.join(\"/tmp/data/raw/test/watch/accel\")\n",
        "print('total test file:', len(os.listdir(test_accel_watch)))\n"
      ],
      "execution_count": 10,
      "outputs": [
        {
          "output_type": "stream",
          "text": [
            "total train file: 20\n",
            "total train file: 20\n",
            "total train file: 20\n",
            "total train file: 20\n",
            "total test file: 14\n",
            "total test file: 14\n",
            "total test file: 14\n",
            "total test file: 14\n"
          ],
          "name": "stdout"
        }
      ]
    },
    {
      "cell_type": "code",
      "metadata": {
        "id": "3Z7M_10MGgB8",
        "colab_type": "code",
        "outputId": "b59131a1-2367-43a6-e131-d9ac05989a9d",
        "colab": {
          "base_uri": "https://localhost:8080/",
          "height": 197
        }
      },
      "source": [
        "#all the training data from 4 different folders\n",
        "df=pd.DataFrame()\n",
        "for n in os.listdir(train_gyro_phone):\n",
        "    a=pd.read_csv(os.path.join(train_gyro_phone,n),sep=\",\",header=None)\n",
        "    df=pd.concat([df,a])\n",
        "for n in os.listdir(train_accel_phone):\n",
        "    a=pd.read_csv(os.path.join(train_accel_phone,n),sep=\",\",header=None)\n",
        "    df=pd.concat([df,a])\n",
        "  \n",
        "for n in os.listdir(train_gyro_watch):\n",
        "    a=pd.read_csv(os.path.join(train_gyro_watch,n),sep=\",\",header=None)\n",
        "    df=pd.concat([df,a])\n",
        "\n",
        "for n in os.listdir(train_accel_watch):\n",
        "    a=pd.read_csv(os.path.join(train_accel_watch,n),sep=\",\",header=None)\n",
        "    df=pd.concat([df,a])\n",
        "d_train=df\n",
        "df.head()"
      ],
      "execution_count": 11,
      "outputs": [
        {
          "output_type": "execute_result",
          "data": {
            "text/html": [
              "<div>\n",
              "<style scoped>\n",
              "    .dataframe tbody tr th:only-of-type {\n",
              "        vertical-align: middle;\n",
              "    }\n",
              "\n",
              "    .dataframe tbody tr th {\n",
              "        vertical-align: top;\n",
              "    }\n",
              "\n",
              "    .dataframe thead th {\n",
              "        text-align: right;\n",
              "    }\n",
              "</style>\n",
              "<table border=\"1\" class=\"dataframe\">\n",
              "  <thead>\n",
              "    <tr style=\"text-align: right;\">\n",
              "      <th></th>\n",
              "      <th>0</th>\n",
              "      <th>1</th>\n",
              "      <th>2</th>\n",
              "      <th>3</th>\n",
              "      <th>4</th>\n",
              "      <th>5</th>\n",
              "    </tr>\n",
              "  </thead>\n",
              "  <tbody>\n",
              "    <tr>\n",
              "      <th>0</th>\n",
              "      <td>1617</td>\n",
              "      <td>A</td>\n",
              "      <td>268914308299448</td>\n",
              "      <td>0.794785</td>\n",
              "      <td>0.341476</td>\n",
              "      <td>0.2416687;</td>\n",
              "    </tr>\n",
              "    <tr>\n",
              "      <th>1</th>\n",
              "      <td>1617</td>\n",
              "      <td>A</td>\n",
              "      <td>268914358653452</td>\n",
              "      <td>-0.593460</td>\n",
              "      <td>0.439743</td>\n",
              "      <td>0.7967987;</td>\n",
              "    </tr>\n",
              "    <tr>\n",
              "      <th>2</th>\n",
              "      <td>1617</td>\n",
              "      <td>A</td>\n",
              "      <td>268914409007456</td>\n",
              "      <td>-0.590118</td>\n",
              "      <td>-0.879135</td>\n",
              "      <td>1.2294617;</td>\n",
              "    </tr>\n",
              "    <tr>\n",
              "      <th>3</th>\n",
              "      <td>1617</td>\n",
              "      <td>A</td>\n",
              "      <td>268914459361460</td>\n",
              "      <td>-0.821747</td>\n",
              "      <td>-1.319351</td>\n",
              "      <td>0.8325348;</td>\n",
              "    </tr>\n",
              "    <tr>\n",
              "      <th>4</th>\n",
              "      <td>1617</td>\n",
              "      <td>A</td>\n",
              "      <td>268914509715464</td>\n",
              "      <td>-1.026154</td>\n",
              "      <td>-0.588715</td>\n",
              "      <td>0.06594849;</td>\n",
              "    </tr>\n",
              "  </tbody>\n",
              "</table>\n",
              "</div>"
            ],
            "text/plain": [
              "      0  1                2         3         4            5\n",
              "0  1617  A  268914308299448  0.794785  0.341476   0.2416687;\n",
              "1  1617  A  268914358653452 -0.593460  0.439743   0.7967987;\n",
              "2  1617  A  268914409007456 -0.590118 -0.879135   1.2294617;\n",
              "3  1617  A  268914459361460 -0.821747 -1.319351   0.8325348;\n",
              "4  1617  A  268914509715464 -1.026154 -0.588715  0.06594849;"
            ]
          },
          "metadata": {
            "tags": []
          },
          "execution_count": 11
        }
      ]
    },
    {
      "cell_type": "code",
      "metadata": {
        "id": "BNO_aSFBGjBg",
        "colab_type": "code",
        "outputId": "5dfc7706-3163-4372-e8fd-763cac273695",
        "colab": {
          "base_uri": "https://localhost:8080/",
          "height": 197
        }
      },
      "source": [
        "#all the test data from 4 different folder\n",
        "df_test=pd.DataFrame()\n",
        "for n in os.listdir(test_gyro_phone):\n",
        "    a=pd.read_csv(os.path.join(test_gyro_phone,n),sep=\",\",header=None)\n",
        "    df_test=pd.concat([df_test,a])\n",
        "for n in os.listdir(test_accel_phone):\n",
        "    a=pd.read_csv(os.path.join(test_accel_phone,n),sep=\",\",header=None)\n",
        "    df_test=pd.concat([df_test,a])\n",
        "  \n",
        "for n in os.listdir(test_gyro_watch):\n",
        "    a=pd.read_csv(os.path.join(test_gyro_watch,n),sep=\",\",header=None)\n",
        "    df_test=pd.concat([df_test,a])\n",
        "\n",
        "for n in os.listdir(test_accel_watch):\n",
        "    a=pd.read_csv(os.path.join(test_accel_watch,n),sep=\",\",header=None)\n",
        "    df_test=pd.concat([df_test,a])\n",
        "d_test=df_test\n",
        "df_test.head()"
      ],
      "execution_count": 12,
      "outputs": [
        {
          "output_type": "execute_result",
          "data": {
            "text/html": [
              "<div>\n",
              "<style scoped>\n",
              "    .dataframe tbody tr th:only-of-type {\n",
              "        vertical-align: middle;\n",
              "    }\n",
              "\n",
              "    .dataframe tbody tr th {\n",
              "        vertical-align: top;\n",
              "    }\n",
              "\n",
              "    .dataframe thead th {\n",
              "        text-align: right;\n",
              "    }\n",
              "</style>\n",
              "<table border=\"1\" class=\"dataframe\">\n",
              "  <thead>\n",
              "    <tr style=\"text-align: right;\">\n",
              "      <th></th>\n",
              "      <th>0</th>\n",
              "      <th>1</th>\n",
              "      <th>2</th>\n",
              "      <th>3</th>\n",
              "      <th>4</th>\n",
              "      <th>5</th>\n",
              "    </tr>\n",
              "  </thead>\n",
              "  <tbody>\n",
              "    <tr>\n",
              "      <th>0</th>\n",
              "      <td>1622</td>\n",
              "      <td>A</td>\n",
              "      <td>1149668096722729</td>\n",
              "      <td>-0.239120</td>\n",
              "      <td>0.131454</td>\n",
              "      <td>-0.22280884;</td>\n",
              "    </tr>\n",
              "    <tr>\n",
              "      <th>1</th>\n",
              "      <td>1622</td>\n",
              "      <td>A</td>\n",
              "      <td>1149668147076733</td>\n",
              "      <td>-0.061310</td>\n",
              "      <td>0.098495</td>\n",
              "      <td>-0.05696106;</td>\n",
              "    </tr>\n",
              "    <tr>\n",
              "      <th>2</th>\n",
              "      <td>1622</td>\n",
              "      <td>A</td>\n",
              "      <td>1149668197430737</td>\n",
              "      <td>-0.036469</td>\n",
              "      <td>-0.424423</td>\n",
              "      <td>0.113845825;</td>\n",
              "    </tr>\n",
              "    <tr>\n",
              "      <th>3</th>\n",
              "      <td>1622</td>\n",
              "      <td>A</td>\n",
              "      <td>1149668247784741</td>\n",
              "      <td>0.471176</td>\n",
              "      <td>-0.633347</td>\n",
              "      <td>0.3421631;</td>\n",
              "    </tr>\n",
              "    <tr>\n",
              "      <th>4</th>\n",
              "      <td>1622</td>\n",
              "      <td>A</td>\n",
              "      <td>1149668298138745</td>\n",
              "      <td>1.204346</td>\n",
              "      <td>-0.074951</td>\n",
              "      <td>0.53718567;</td>\n",
              "    </tr>\n",
              "  </tbody>\n",
              "</table>\n",
              "</div>"
            ],
            "text/plain": [
              "      0  1                 2         3         4             5\n",
              "0  1622  A  1149668096722729 -0.239120  0.131454  -0.22280884;\n",
              "1  1622  A  1149668147076733 -0.061310  0.098495  -0.05696106;\n",
              "2  1622  A  1149668197430737 -0.036469 -0.424423  0.113845825;\n",
              "3  1622  A  1149668247784741  0.471176 -0.633347    0.3421631;\n",
              "4  1622  A  1149668298138745  1.204346 -0.074951   0.53718567;"
            ]
          },
          "metadata": {
            "tags": []
          },
          "execution_count": 12
        }
      ]
    },
    {
      "cell_type": "code",
      "metadata": {
        "id": "dkFiYcIWGlpc",
        "colab_type": "code",
        "colab": {}
      },
      "source": [
        "#function to preprocess data\n",
        "def make_df(df):\n",
        "  df.columns=[\"id\",\"activity\",\"time\",\"x\",\"y\",\"z\"]#column names\n",
        "  df['z'] = df['z'].apply(lambda x: float(x[:-1]))#converting the z value column to float\n",
        "  df['time'] = df['time'].apply(lambda x: x//1000000)#converting timestamp in micro seconds to datetime objects\n",
        "  df['time'] = df['time'].apply(lambda x: datetime.fromtimestamp(x))\n",
        "  for n in (\"month\",\"week\",\"day\",\"dayofweek\",\"dayofyear\",\"is_month_end\",\"is_month_start\",\"is_quarter_end\",\"is_quarter_start\",\"is_year_end\",\"is_year_start\"):\n",
        "      df[n]=getattr(df.time.dt,n)# extracting extra data from time column\n",
        "  df.drop(columns=\"time\",inplace=True)\n",
        "\n",
        "  for n in [\"is_month_end\",\"is_month_start\",\"is_quarter_end\",\"is_quarter_start\",\"is_year_end\",\"is_year_start\"]:\n",
        "    df[n]=df[n].apply(lambda x:int(x))#converting to int from boolean i don't know why(o_o)\n",
        "\n",
        "  act=[\"A\",\"B\",\"C\",\"D\",\"E\",\"F\",\"G\",\"H\",\"I\",\"J\",\"K\",\"L\",\"M\",\"O\",\"P\",\"Q\",\"R\",\"S\"]#converting activity column from categorical data to numerical data\n",
        "  df[\"activity\"]=df[\"activity\"].apply(lambda a: act.index(a))\n",
        "  df = df.sample(frac=1).reset_index(drop=True)\n",
        "  df.drop(columns=\"id\",inplace=True)#dropping id column as it is of no use\n",
        "  return df\n",
        "  "
      ],
      "execution_count": 0,
      "outputs": []
    },
    {
      "cell_type": "code",
      "metadata": {
        "id": "tO1TxxumC5cf",
        "colab_type": "code",
        "colab": {}
      },
      "source": [
        "df_train=make_df(df)\n",
        "df_test=make_df(df_test)"
      ],
      "execution_count": 0,
      "outputs": []
    },
    {
      "cell_type": "code",
      "metadata": {
        "id": "QH3xWtvBGse9",
        "colab_type": "code",
        "colab": {
          "base_uri": "https://localhost:8080/",
          "height": 217
        },
        "outputId": "7bc8bfef-67bc-466f-9284-0b2bca1a2a47"
      },
      "source": [
        "dfa=pd.DataFrame()#single data frame for whole data train + test. Later divided into train and test set \n",
        "dfa=pd.concat([dfa,df_test])\n",
        "dfa=pd.concat([dfa,df_train])\n",
        "dfa.head()"
      ],
      "execution_count": 16,
      "outputs": [
        {
          "output_type": "execute_result",
          "data": {
            "text/html": [
              "<div>\n",
              "<style scoped>\n",
              "    .dataframe tbody tr th:only-of-type {\n",
              "        vertical-align: middle;\n",
              "    }\n",
              "\n",
              "    .dataframe tbody tr th {\n",
              "        vertical-align: top;\n",
              "    }\n",
              "\n",
              "    .dataframe thead th {\n",
              "        text-align: right;\n",
              "    }\n",
              "</style>\n",
              "<table border=\"1\" class=\"dataframe\">\n",
              "  <thead>\n",
              "    <tr style=\"text-align: right;\">\n",
              "      <th></th>\n",
              "      <th>activity</th>\n",
              "      <th>x</th>\n",
              "      <th>y</th>\n",
              "      <th>z</th>\n",
              "      <th>month</th>\n",
              "      <th>week</th>\n",
              "      <th>day</th>\n",
              "      <th>dayofweek</th>\n",
              "      <th>dayofyear</th>\n",
              "      <th>is_month_end</th>\n",
              "      <th>is_month_start</th>\n",
              "      <th>is_quarter_end</th>\n",
              "      <th>is_quarter_start</th>\n",
              "      <th>is_year_end</th>\n",
              "      <th>is_year_start</th>\n",
              "    </tr>\n",
              "  </thead>\n",
              "  <tbody>\n",
              "    <tr>\n",
              "      <th>0</th>\n",
              "      <td>8</td>\n",
              "      <td>4.744278</td>\n",
              "      <td>-5.108887</td>\n",
              "      <td>-7.188415</td>\n",
              "      <td>12</td>\n",
              "      <td>49</td>\n",
              "      <td>7</td>\n",
              "      <td>2</td>\n",
              "      <td>342</td>\n",
              "      <td>0</td>\n",
              "      <td>0</td>\n",
              "      <td>0</td>\n",
              "      <td>0</td>\n",
              "      <td>0</td>\n",
              "      <td>0</td>\n",
              "    </tr>\n",
              "    <tr>\n",
              "      <th>1</th>\n",
              "      <td>4</td>\n",
              "      <td>9.402629</td>\n",
              "      <td>-2.593220</td>\n",
              "      <td>-1.706467</td>\n",
              "      <td>12</td>\n",
              "      <td>52</td>\n",
              "      <td>24</td>\n",
              "      <td>3</td>\n",
              "      <td>358</td>\n",
              "      <td>0</td>\n",
              "      <td>0</td>\n",
              "      <td>0</td>\n",
              "      <td>0</td>\n",
              "      <td>0</td>\n",
              "      <td>0</td>\n",
              "    </tr>\n",
              "    <tr>\n",
              "      <th>2</th>\n",
              "      <td>9</td>\n",
              "      <td>-2.880374</td>\n",
              "      <td>-8.044218</td>\n",
              "      <td>-4.951658</td>\n",
              "      <td>11</td>\n",
              "      <td>45</td>\n",
              "      <td>4</td>\n",
              "      <td>3</td>\n",
              "      <td>309</td>\n",
              "      <td>0</td>\n",
              "      <td>0</td>\n",
              "      <td>0</td>\n",
              "      <td>0</td>\n",
              "      <td>0</td>\n",
              "      <td>0</td>\n",
              "    </tr>\n",
              "    <tr>\n",
              "      <th>3</th>\n",
              "      <td>8</td>\n",
              "      <td>-3.413208</td>\n",
              "      <td>0.120148</td>\n",
              "      <td>8.610275</td>\n",
              "      <td>3</td>\n",
              "      <td>12</td>\n",
              "      <td>21</td>\n",
              "      <td>3</td>\n",
              "      <td>80</td>\n",
              "      <td>0</td>\n",
              "      <td>0</td>\n",
              "      <td>0</td>\n",
              "      <td>0</td>\n",
              "      <td>0</td>\n",
              "      <td>0</td>\n",
              "    </tr>\n",
              "    <tr>\n",
              "      <th>4</th>\n",
              "      <td>11</td>\n",
              "      <td>4.653729</td>\n",
              "      <td>7.863007</td>\n",
              "      <td>3.781642</td>\n",
              "      <td>6</td>\n",
              "      <td>24</td>\n",
              "      <td>11</td>\n",
              "      <td>4</td>\n",
              "      <td>163</td>\n",
              "      <td>0</td>\n",
              "      <td>0</td>\n",
              "      <td>0</td>\n",
              "      <td>0</td>\n",
              "      <td>0</td>\n",
              "      <td>0</td>\n",
              "    </tr>\n",
              "  </tbody>\n",
              "</table>\n",
              "</div>"
            ],
            "text/plain": [
              "   activity         x         y  ...  is_quarter_start  is_year_end  is_year_start\n",
              "0         8  4.744278 -5.108887  ...                 0            0              0\n",
              "1         4  9.402629 -2.593220  ...                 0            0              0\n",
              "2         9 -2.880374 -8.044218  ...                 0            0              0\n",
              "3         8 -3.413208  0.120148  ...                 0            0              0\n",
              "4        11  4.653729  7.863007  ...                 0            0              0\n",
              "\n",
              "[5 rows x 15 columns]"
            ]
          },
          "metadata": {
            "tags": []
          },
          "execution_count": 16
        }
      ]
    },
    {
      "cell_type": "code",
      "metadata": {
        "id": "Xl8lLL_ux0e7",
        "colab_type": "code",
        "colab": {}
      },
      "source": [
        "train_y=dfa[\"activity\"]\n",
        "train_x=dfa.drop(columns=\"activity\")\n",
        "x_train, x_test, y_train, y_test = train_test_split(train_x,train_y , train_size = 0.9, random_state =  90)\n",
        "train=len(x_train)\n",
        "test=len(x_test)\n",
        "mm_scaler = preprocessing.Normalizer().fit(x_train)"
      ],
      "execution_count": 0,
      "outputs": []
    },
    {
      "cell_type": "code",
      "metadata": {
        "id": "07n9Ysa8KOZA",
        "colab_type": "code",
        "colab": {}
      },
      "source": [
        "x_train=mm_scaler.transform(x_train)\n",
        "x_test=mm_scaler.transform(x_test)\n"
      ],
      "execution_count": 0,
      "outputs": []
    },
    {
      "cell_type": "code",
      "metadata": {
        "id": "mNtNP-ebGvCs",
        "colab_type": "code",
        "colab": {}
      },
      "source": [
        "model_tree = tree.DecisionTreeClassifier()\n",
        "\n",
        "start = time.time()\n",
        "model_tree.fit(x_train, y_train)\n",
        "end = time.time()\n",
        "print(end - start)\n",
        "\n",
        "y_pred= model_tree.predict(x_test)\n",
        "acc = accuracy_score(y_test, y_pred)\n",
        "print(f\"Accuracy of {model_tree} is {acc}\")\n"
      ],
      "execution_count": 0,
      "outputs": []
    },
    {
      "cell_type": "code",
      "metadata": {
        "id": "KLcwH9yHP_-u",
        "colab_type": "code",
        "outputId": "2b02c05a-c5a5-484a-f29c-75343916a591",
        "colab": {
          "base_uri": "https://localhost:8080/",
          "height": 52
        }
      },
      "source": [
        "Random_classifier = RandomForestClassifier(n_estimators = 50)\n",
        "start = time.time()\n",
        "Random_classifier.fit(x_train, y_train)\n",
        "end = time.time()\n",
        "print(end - start)\n",
        "y_pred = Random_classifier.predict(x_test)\n",
        "result = accuracy_score(y_test,y_pred)\n",
        "print(\"Accuracy:\",result)"
      ],
      "execution_count": 0,
      "outputs": [
        {
          "output_type": "stream",
          "text": [
            "1692.355530500412\n",
            "Accuracy: 0.9357933290622369\n"
          ],
          "name": "stdout"
        }
      ]
    },
    {
      "cell_type": "code",
      "metadata": {
        "id": "F0T05EJjZc-z",
        "colab_type": "code",
        "colab": {}
      },
      "source": [
        "#Decision tree takes much less time to train in ralation to Random Forest.\n",
        "#Accuracy of Random Forest is asways more than that of Decision Tree "
      ],
      "execution_count": 0,
      "outputs": []
    },
    {
      "cell_type": "code",
      "metadata": {
        "id": "lcgfRebKTXIK",
        "colab_type": "code",
        "colab": {}
      },
      "source": [
        "activity_encoder=[\"A\",\"B\",\"C\",\"D\",\"E\",\"F\",\"G\",\"H\",\"I\",\"J\",\"K\",\"L\",\"M\",\"O\",\"P\",\"Q\",\"R\",\"S\"]"
      ],
      "execution_count": 0,
      "outputs": []
    },
    {
      "cell_type": "code",
      "metadata": {
        "id": "m5WHl9XZcwMO",
        "colab_type": "code",
        "colab": {}
      },
      "source": [
        "#Decision Tree evaluation\n",
        "eval_data=make_df(eval_data)#eval_data is the evaluation dataframe\n",
        "eval_data=mm.scaler.transform(eval_data)#provided by you\n",
        "y_pred= model_tree.predict(eval_data)\n",
        "actual_pred=[]\n",
        "for n in y_pred:\n",
        "  actual_pred.append(activity_encoder[n])"
      ],
      "execution_count": 0,
      "outputs": []
    },
    {
      "cell_type": "code",
      "metadata": {
        "id": "4AW5I2tqRKCs",
        "colab_type": "code",
        "colab": {}
      },
      "source": [
        "#Random Forest evaluation\n",
        "eval_data=make_df(eval_data)#eval_data is the evaluation dataframe\n",
        "eval_data=mm.scaler.transform(eval_data)#provided by you\n",
        "y_pred= Random_classifier.predict(eval_data)\n",
        "actual_pred=[]\n",
        "for n in y_pred:\n",
        "  actual_pred.append(activity_encoder[n])"
      ],
      "execution_count": 0,
      "outputs": []
    },
    {
      "cell_type": "code",
      "metadata": {
        "id": "XTOM-vcHThBk",
        "colab_type": "code",
        "colab": {}
      },
      "source": [
        ""
      ],
      "execution_count": 0,
      "outputs": []
    }
  ]
}